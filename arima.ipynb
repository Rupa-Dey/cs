{
 "cells": [
  {
   "cell_type": "code",
   "execution_count": 13,
   "metadata": {},
   "outputs": [],
   "source": [
    "import numpy as np\n",
    "import matplotlib.pyplot as plt\n",
    "import pandas as pd\n",
    "from pandas import read_csv\n",
    "from datetime import datetime"
   ]
  },
  {
   "cell_type": "code",
   "execution_count": 14,
   "metadata": {},
   "outputs": [
    {
     "data": {
      "text/html": [
       "<div>\n",
       "<style scoped>\n",
       "    .dataframe tbody tr th:only-of-type {\n",
       "        vertical-align: middle;\n",
       "    }\n",
       "\n",
       "    .dataframe tbody tr th {\n",
       "        vertical-align: top;\n",
       "    }\n",
       "\n",
       "    .dataframe thead th {\n",
       "        text-align: right;\n",
       "    }\n",
       "</style>\n",
       "<table border=\"1\" class=\"dataframe\">\n",
       "  <thead>\n",
       "    <tr style=\"text-align: right;\">\n",
       "      <th></th>\n",
       "      <th>Month</th>\n",
       "      <th>Sales</th>\n",
       "    </tr>\n",
       "  </thead>\n",
       "  <tbody>\n",
       "    <tr>\n",
       "      <th>0</th>\n",
       "      <td>2021-01</td>\n",
       "      <td>266.0</td>\n",
       "    </tr>\n",
       "    <tr>\n",
       "      <th>1</th>\n",
       "      <td>2021-02</td>\n",
       "      <td>145.9</td>\n",
       "    </tr>\n",
       "    <tr>\n",
       "      <th>2</th>\n",
       "      <td>2021-03</td>\n",
       "      <td>183.1</td>\n",
       "    </tr>\n",
       "    <tr>\n",
       "      <th>3</th>\n",
       "      <td>2021-04</td>\n",
       "      <td>119.3</td>\n",
       "    </tr>\n",
       "    <tr>\n",
       "      <th>4</th>\n",
       "      <td>2021-05</td>\n",
       "      <td>180.3</td>\n",
       "    </tr>\n",
       "  </tbody>\n",
       "</table>\n",
       "</div>"
      ],
      "text/plain": [
       "     Month  Sales\n",
       "0  2021-01  266.0\n",
       "1  2021-02  145.9\n",
       "2  2021-03  183.1\n",
       "3  2021-04  119.3\n",
       "4  2021-05  180.3"
      ]
     },
     "execution_count": 14,
     "metadata": {},
     "output_type": "execute_result"
    }
   ],
   "source": [
    "df = pd.read_csv(\"shampoo.csv\")\n",
    "df.head(5)"
   ]
  },
  {
   "cell_type": "code",
   "execution_count": 15,
   "metadata": {},
   "outputs": [
    {
     "data": {
      "text/html": [
       "<div>\n",
       "<style scoped>\n",
       "    .dataframe tbody tr th:only-of-type {\n",
       "        vertical-align: middle;\n",
       "    }\n",
       "\n",
       "    .dataframe tbody tr th {\n",
       "        vertical-align: top;\n",
       "    }\n",
       "\n",
       "    .dataframe thead th {\n",
       "        text-align: right;\n",
       "    }\n",
       "</style>\n",
       "<table border=\"1\" class=\"dataframe\">\n",
       "  <thead>\n",
       "    <tr style=\"text-align: right;\">\n",
       "      <th></th>\n",
       "      <th>Month</th>\n",
       "      <th>Sales</th>\n",
       "    </tr>\n",
       "  </thead>\n",
       "  <tbody>\n",
       "    <tr>\n",
       "      <th>0</th>\n",
       "      <td>2021-01-01</td>\n",
       "      <td>266.0</td>\n",
       "    </tr>\n",
       "    <tr>\n",
       "      <th>1</th>\n",
       "      <td>2021-02-01</td>\n",
       "      <td>145.9</td>\n",
       "    </tr>\n",
       "    <tr>\n",
       "      <th>2</th>\n",
       "      <td>2021-03-01</td>\n",
       "      <td>183.1</td>\n",
       "    </tr>\n",
       "    <tr>\n",
       "      <th>3</th>\n",
       "      <td>2021-04-01</td>\n",
       "      <td>119.3</td>\n",
       "    </tr>\n",
       "    <tr>\n",
       "      <th>4</th>\n",
       "      <td>2021-05-01</td>\n",
       "      <td>180.3</td>\n",
       "    </tr>\n",
       "  </tbody>\n",
       "</table>\n",
       "</div>"
      ],
      "text/plain": [
       "       Month  Sales\n",
       "0 2021-01-01  266.0\n",
       "1 2021-02-01  145.9\n",
       "2 2021-03-01  183.1\n",
       "3 2021-04-01  119.3\n",
       "4 2021-05-01  180.3"
      ]
     },
     "execution_count": 15,
     "metadata": {},
     "output_type": "execute_result"
    }
   ],
   "source": [
    "df['Month'] = pd.to_datetime(df['Month'])\n",
    "df.head()"
   ]
  },
  {
   "cell_type": "code",
   "execution_count": 17,
   "metadata": {},
   "outputs": [
    {
     "data": {
      "text/html": [
       "<div>\n",
       "<style scoped>\n",
       "    .dataframe tbody tr th:only-of-type {\n",
       "        vertical-align: middle;\n",
       "    }\n",
       "\n",
       "    .dataframe tbody tr th {\n",
       "        vertical-align: top;\n",
       "    }\n",
       "\n",
       "    .dataframe thead th {\n",
       "        text-align: right;\n",
       "    }\n",
       "</style>\n",
       "<table border=\"1\" class=\"dataframe\">\n",
       "  <thead>\n",
       "    <tr style=\"text-align: right;\">\n",
       "      <th></th>\n",
       "      <th>Sales</th>\n",
       "    </tr>\n",
       "    <tr>\n",
       "      <th>Month</th>\n",
       "      <th></th>\n",
       "    </tr>\n",
       "  </thead>\n",
       "  <tbody>\n",
       "    <tr>\n",
       "      <th>2021-01-01</th>\n",
       "      <td>266.0</td>\n",
       "    </tr>\n",
       "    <tr>\n",
       "      <th>2021-02-01</th>\n",
       "      <td>145.9</td>\n",
       "    </tr>\n",
       "    <tr>\n",
       "      <th>2021-03-01</th>\n",
       "      <td>183.1</td>\n",
       "    </tr>\n",
       "    <tr>\n",
       "      <th>2021-04-01</th>\n",
       "      <td>119.3</td>\n",
       "    </tr>\n",
       "    <tr>\n",
       "      <th>2021-05-01</th>\n",
       "      <td>180.3</td>\n",
       "    </tr>\n",
       "  </tbody>\n",
       "</table>\n",
       "</div>"
      ],
      "text/plain": [
       "            Sales\n",
       "Month            \n",
       "2021-01-01  266.0\n",
       "2021-02-01  145.9\n",
       "2021-03-01  183.1\n",
       "2021-04-01  119.3\n",
       "2021-05-01  180.3"
      ]
     },
     "execution_count": 17,
     "metadata": {},
     "output_type": "execute_result"
    }
   ],
   "source": [
    "df = df.set_index('Month')\n",
    "df.head()"
   ]
  },
  {
   "cell_type": "code",
   "execution_count": 18,
   "metadata": {},
   "outputs": [
    {
     "data": {
      "text/plain": [
       "<Axes: xlabel='Month'>"
      ]
     },
     "execution_count": 18,
     "metadata": {},
     "output_type": "execute_result"
    },
    {
     "data": {
      "image/png": "[encoded data removed]",
      "text/plain": [
       "<Figure size 640x480 with 1 Axes>"
      ]
     },
     "metadata": {},
     "output_type": "display_data"
    }
   ],
   "source": [
    "df.plot()"
   ]
  },
  {
   "cell_type": "code",
   "execution_count": 32,
   "metadata": {},
   "outputs": [],
   "source": [
    "from statsmodels.tsa.stattools import adfuller"
   ]
  },
  {
   "cell_type": "code",
   "execution_count": 33,
   "metadata": {},
   "outputs": [
    {
     "name": "stdout",
     "output_type": "stream",
     "text": [
      "(3.0601420836411815, 1.0, 10, 25, {'1%': -3.7238633119999998, '5%': -2.98648896, '10%': -2.6328004}, 278.9972644263031)\n"
     ]
    }
   ],
   "source": [
    "ans = adfuller(df)\n",
    "print(ans)"
   ]
  },
  {
   "cell_type": "code",
   "execution_count": 34,
   "metadata": {},
   "outputs": [
    {
     "data": {
      "text/html": [
       "<div>\n",
       "<style scoped>\n",
       "    .dataframe tbody tr th:only-of-type {\n",
       "        vertical-align: middle;\n",
       "    }\n",
       "\n",
       "    .dataframe tbody tr th {\n",
       "        vertical-align: top;\n",
       "    }\n",
       "\n",
       "    .dataframe thead th {\n",
       "        text-align: right;\n",
       "    }\n",
       "</style>\n",
       "<table border=\"1\" class=\"dataframe\">\n",
       "  <thead>\n",
       "    <tr style=\"text-align: right;\">\n",
       "      <th></th>\n",
       "      <th>Sales</th>\n",
       "      <th>new_v</th>\n",
       "    </tr>\n",
       "    <tr>\n",
       "      <th>Month</th>\n",
       "      <th></th>\n",
       "      <th></th>\n",
       "    </tr>\n",
       "  </thead>\n",
       "  <tbody>\n",
       "    <tr>\n",
       "      <th>2021-01-01</th>\n",
       "      <td>266.0</td>\n",
       "      <td>NaN</td>\n",
       "    </tr>\n",
       "    <tr>\n",
       "      <th>2021-02-01</th>\n",
       "      <td>145.9</td>\n",
       "      <td>-120.1</td>\n",
       "    </tr>\n",
       "    <tr>\n",
       "      <th>2021-03-01</th>\n",
       "      <td>183.1</td>\n",
       "      <td>37.2</td>\n",
       "    </tr>\n",
       "    <tr>\n",
       "      <th>2021-04-01</th>\n",
       "      <td>119.3</td>\n",
       "      <td>-63.8</td>\n",
       "    </tr>\n",
       "    <tr>\n",
       "      <th>2021-05-01</th>\n",
       "      <td>180.3</td>\n",
       "      <td>61.0</td>\n",
       "    </tr>\n",
       "  </tbody>\n",
       "</table>\n",
       "</div>"
      ],
      "text/plain": [
       "            Sales  new_v\n",
       "Month                   \n",
       "2021-01-01  266.0    NaN\n",
       "2021-02-01  145.9 -120.1\n",
       "2021-03-01  183.1   37.2\n",
       "2021-04-01  119.3  -63.8\n",
       "2021-05-01  180.3   61.0"
      ]
     },
     "execution_count": 34,
     "metadata": {},
     "output_type": "execute_result"
    }
   ],
   "source": [
    "df['new_v'] = df-df.shift(1)\n",
    "df.head()"
   ]
  },
  {
   "cell_type": "code",
   "execution_count": 37,
   "metadata": {},
   "outputs": [
    {
     "data": {
      "text/plain": [
       "(-7.249074055553854,\n",
       " 1.7998574141687034e-10,\n",
       " 1,\n",
       " 33,\n",
       " {'1%': -3.6461350877925254,\n",
       "  '5%': -2.954126991123355,\n",
       "  '10%': -2.6159676124885216},\n",
       " 275.32503579406307)"
      ]
     },
     "execution_count": 37,
     "metadata": {},
     "output_type": "execute_result"
    }
   ],
   "source": [
    "adfuller(df['new_v'].dropna())\n",
    "# print(ans)"
   ]
  },
  {
   "cell_type": "code",
   "execution_count": 40,
   "metadata": {},
   "outputs": [],
   "source": []
  },
  {
   "cell_type": "code",
   "execution_count": 38,
   "metadata": {},
   "outputs": [
    {
     "name": "stdout",
     "output_type": "stream",
     "text": [
      "Performing stepwise search to minimize aic\n",
      " ARIMA(2,0,2)(0,0,0)[0] intercept   : AIC=inf, Time=0.19 sec\n",
      " ARIMA(0,0,0)(0,0,0)[0] intercept   : AIC=430.873, Time=0.01 sec\n",
      " ARIMA(1,0,0)(0,0,0)[0] intercept   : AIC=406.022, Time=0.04 sec\n",
      " ARIMA(0,0,1)(0,0,0)[0] intercept   : AIC=409.013, Time=0.06 sec\n",
      " ARIMA(0,0,0)(0,0,0)[0]             : AIC=429.229, Time=0.01 sec\n",
      " ARIMA(2,0,0)(0,0,0)[0] intercept   : AIC=403.628, Time=0.08 sec\n",
      " ARIMA(3,0,0)(0,0,0)[0] intercept   : AIC=404.692, Time=0.14 sec\n",
      " ARIMA(2,0,1)(0,0,0)[0] intercept   : AIC=404.286, Time=0.13 sec\n",
      " ARIMA(1,0,1)(0,0,0)[0] intercept   : AIC=402.467, Time=0.18 sec\n",
      " ARIMA(1,0,2)(0,0,0)[0] intercept   : AIC=401.529, Time=0.20 sec\n",
      " ARIMA(0,0,2)(0,0,0)[0] intercept   : AIC=inf, Time=0.09 sec\n",
      " ARIMA(1,0,3)(0,0,0)[0] intercept   : AIC=inf, Time=0.29 sec\n",
      " ARIMA(0,0,3)(0,0,0)[0] intercept   : AIC=inf, Time=0.10 sec\n",
      " ARIMA(2,0,3)(0,0,0)[0] intercept   : AIC=inf, Time=0.33 sec\n",
      " ARIMA(1,0,2)(0,0,0)[0]             : AIC=inf, Time=0.12 sec\n",
      "\n",
      "Best model:  ARIMA(1,0,2)(0,0,0)[0] intercept\n",
      "Total fit time: 1.972 seconds\n"
     ]
    },
    {
     "data": {
      "text/html": [
       "<table class=\"simpletable\">\n",
       "<caption>SARIMAX Results</caption>\n",
       "<tr>\n",
       "  <th>Dep. Variable:</th>           <td>y</td>        <th>  No. Observations:  </th>    <td>35</td>   \n",
       "</tr>\n",
       "<tr>\n",
       "  <th>Model:</th>           <td>SARIMAX(1, 0, 2)</td> <th>  Log Likelihood     </th> <td>-195.765</td>\n",
       "</tr>\n",
       "<tr>\n",
       "  <th>Date:</th>            <td>Thu, 25 Jan 2024</td> <th>  AIC                </th>  <td>401.529</td>\n",
       "</tr>\n",
       "<tr>\n",
       "  <th>Time:</th>                <td>01:46:50</td>     <th>  BIC                </th>  <td>409.306</td>\n",
       "</tr>\n",
       "<tr>\n",
       "  <th>Sample:</th>             <td>02-01-2021</td>    <th>  HQIC               </th>  <td>404.214</td>\n",
       "</tr>\n",
       "<tr>\n",
       "  <th></th>                   <td>- 12-01-2023</td>   <th>                     </th>     <td> </td>   \n",
       "</tr>\n",
       "<tr>\n",
       "  <th>Covariance Type:</th>        <td>opg</td>       <th>                     </th>     <td> </td>   \n",
       "</tr>\n",
       "</table>\n",
       "<table class=\"simpletable\">\n",
       "<tr>\n",
       "      <td></td>         <th>coef</th>     <th>std err</th>      <th>z</th>      <th>P>|z|</th>  <th>[0.025</th>    <th>0.975]</th>  \n",
       "</tr>\n",
       "<tr>\n",
       "  <th>intercept</th> <td>    9.3730</td> <td>    6.166</td> <td>    1.520</td> <td> 0.128</td> <td>   -2.712</td> <td>   21.458</td>\n",
       "</tr>\n",
       "<tr>\n",
       "  <th>ar.L1</th>     <td>    0.0923</td> <td>    0.311</td> <td>    0.297</td> <td> 0.767</td> <td>   -0.518</td> <td>    0.703</td>\n",
       "</tr>\n",
       "<tr>\n",
       "  <th>ma.L1</th>     <td>   -1.3961</td> <td>    0.375</td> <td>   -3.719</td> <td> 0.000</td> <td>   -2.132</td> <td>   -0.660</td>\n",
       "</tr>\n",
       "<tr>\n",
       "  <th>ma.L2</th>     <td>    0.9531</td> <td>    0.537</td> <td>    1.775</td> <td> 0.076</td> <td>   -0.099</td> <td>    2.006</td>\n",
       "</tr>\n",
       "<tr>\n",
       "  <th>sigma2</th>    <td> 3666.1921</td> <td> 1670.625</td> <td>    2.195</td> <td> 0.028</td> <td>  391.827</td> <td> 6940.557</td>\n",
       "</tr>\n",
       "</table>\n",
       "<table class=\"simpletable\">\n",
       "<tr>\n",
       "  <th>Ljung-Box (L1) (Q):</th>     <td>0.23</td> <th>  Jarque-Bera (JB):  </th> <td>0.83</td>\n",
       "</tr>\n",
       "<tr>\n",
       "  <th>Prob(Q):</th>                <td>0.63</td> <th>  Prob(JB):          </th> <td>0.66</td>\n",
       "</tr>\n",
       "<tr>\n",
       "  <th>Heteroskedasticity (H):</th> <td>0.95</td> <th>  Skew:              </th> <td>0.31</td>\n",
       "</tr>\n",
       "<tr>\n",
       "  <th>Prob(H) (two-sided):</th>    <td>0.92</td> <th>  Kurtosis:          </th> <td>2.56</td>\n",
       "</tr>\n",
       "</table><br/><br/>Warnings:<br/>[1] Covariance matrix calculated using the outer product of gradients (complex-step)."
      ],
      "text/latex": [
       "\\begin{center}\n",
       "\\begin{tabular}{lclc}\n",
       "\\toprule\n",
       "\\textbf{Dep. Variable:}          &        y         & \\textbf{  No. Observations:  } &     35      \\\\\n",
       "\\textbf{Model:}                  & SARIMAX(1, 0, 2) & \\textbf{  Log Likelihood     } &  -195.765   \\\\\n",
       "\\textbf{Date:}                   & Thu, 25 Jan 2024 & \\textbf{  AIC                } &  401.529    \\\\\n",
       "\\textbf{Time:}                   &     01:46:50     & \\textbf{  BIC                } &  409.306    \\\\\n",
       "\\textbf{Sample:}                 &    02-01-2021    & \\textbf{  HQIC               } &  404.214    \\\\\n",
       "\\textbf{}                        &   - 12-01-2023   & \\textbf{                     } &             \\\\\n",
       "\\textbf{Covariance Type:}        &       opg        & \\textbf{                     } &             \\\\\n",
       "\\bottomrule\n",
       "\\end{tabular}\n",
       "\\begin{tabular}{lcccccc}\n",
       "                   & \\textbf{coef} & \\textbf{std err} & \\textbf{z} & \\textbf{P$> |$z$|$} & \\textbf{[0.025} & \\textbf{0.975]}  \\\\\n",
       "\\midrule\n",
       "\\textbf{intercept} &       9.3730  &        6.166     &     1.520  &         0.128        &       -2.712    &       21.458     \\\\\n",
       "\\textbf{ar.L1}     &       0.0923  &        0.311     &     0.297  &         0.767        &       -0.518    &        0.703     \\\\\n",
       "\\textbf{ma.L1}     &      -1.3961  &        0.375     &    -3.719  &         0.000        &       -2.132    &       -0.660     \\\\\n",
       "\\textbf{ma.L2}     &       0.9531  &        0.537     &     1.775  &         0.076        &       -0.099    &        2.006     \\\\\n",
       "\\textbf{sigma2}    &    3666.1921  &     1670.625     &     2.195  &         0.028        &      391.827    &     6940.557     \\\\\n",
       "\\bottomrule\n",
       "\\end{tabular}\n",
       "\\begin{tabular}{lclc}\n",
       "\\textbf{Ljung-Box (L1) (Q):}     & 0.23 & \\textbf{  Jarque-Bera (JB):  } & 0.83  \\\\\n",
       "\\textbf{Prob(Q):}                & 0.63 & \\textbf{  Prob(JB):          } & 0.66  \\\\\n",
       "\\textbf{Heteroskedasticity (H):} & 0.95 & \\textbf{  Skew:              } & 0.31  \\\\\n",
       "\\textbf{Prob(H) (two-sided):}    & 0.92 & \\textbf{  Kurtosis:          } & 2.56  \\\\\n",
       "\\bottomrule\n",
       "\\end{tabular}\n",
       "%\\caption{SARIMAX Results}\n",
       "\\end{center}\n",
       "\n",
       "Warnings: \\newline\n",
       " [1] Covariance matrix calculated using the outer product of gradients (complex-step)."
      ],
      "text/plain": [
       "<class 'statsmodels.iolib.summary.Summary'>\n",
       "\"\"\"\n",
       "                               SARIMAX Results                                \n",
       "==============================================================================\n",
       "Dep. Variable:                      y   No. Observations:                   35\n",
       "Model:               SARIMAX(1, 0, 2)   Log Likelihood                -195.765\n",
       "Date:                Thu, 25 Jan 2024   AIC                            401.529\n",
       "Time:                        01:46:50   BIC                            409.306\n",
       "Sample:                    02-01-2021   HQIC                           404.214\n",
       "                         - 12-01-2023                                         \n",
       "Covariance Type:                  opg                                         \n",
       "==============================================================================\n",
       "                 coef    std err          z      P>|z|      [0.025      0.975]\n",
       "------------------------------------------------------------------------------\n",
       "intercept      9.3730      6.166      1.520      0.128      -2.712      21.458\n",
       "ar.L1          0.0923      0.311      0.297      0.767      -0.518       0.703\n",
       "ma.L1         -1.3961      0.375     -3.719      0.000      -2.132      -0.660\n",
       "ma.L2          0.9531      0.537      1.775      0.076      -0.099       2.006\n",
       "sigma2      3666.1921   1670.625      2.195      0.028     391.827    6940.557\n",
       "===================================================================================\n",
       "Ljung-Box (L1) (Q):                   0.23   Jarque-Bera (JB):                 0.83\n",
       "Prob(Q):                              0.63   Prob(JB):                         0.66\n",
       "Heteroskedasticity (H):               0.95   Skew:                             0.31\n",
       "Prob(H) (two-sided):                  0.92   Kurtosis:                         2.56\n",
       "===================================================================================\n",
       "\n",
       "Warnings:\n",
       "[1] Covariance matrix calculated using the outer product of gradients (complex-step).\n",
       "\"\"\""
      ]
     },
     "execution_count": 38,
     "metadata": {},
     "output_type": "execute_result"
    }
   ],
   "source": []
  },
  {
   "cell_type": "code",
   "execution_count": 43,
   "metadata": {},
   "outputs": [],
   "source": [
    "size = int(len(df)*0.66)\n",
    "train = df[:size]\n",
    "test = df[size:]\n"
   ]
  },
  {
   "cell_type": "code",
   "execution_count": 44,
   "metadata": {},
   "outputs": [],
   "source": [
    "from statsmodels.tsa.arima.model import ARIMA\n",
    "from pmdarima import auto_arima"
   ]
  },
  {
   "cell_type": "code",
   "execution_count": 45,
   "metadata": {},
   "outputs": [
    {
     "name": "stdout",
     "output_type": "stream",
     "text": [
      "Performing stepwise search to minimize aic\n",
      " ARIMA(2,0,2)(0,0,0)[0] intercept   : AIC=inf, Time=0.20 sec\n",
      " ARIMA(0,0,0)(0,0,0)[0] intercept   : AIC=430.873, Time=0.01 sec\n",
      " ARIMA(1,0,0)(0,0,0)[0] intercept   : AIC=406.022, Time=0.04 sec\n",
      " ARIMA(0,0,1)(0,0,0)[0] intercept   : AIC=409.013, Time=0.06 sec\n",
      " ARIMA(0,0,0)(0,0,0)[0]             : AIC=429.229, Time=0.01 sec\n",
      " ARIMA(2,0,0)(0,0,0)[0] intercept   : AIC=403.628, Time=0.08 sec\n",
      " ARIMA(3,0,0)(0,0,0)[0] intercept   : AIC=404.692, Time=0.15 sec\n",
      " ARIMA(2,0,1)(0,0,0)[0] intercept   : AIC=404.286, Time=0.13 sec\n",
      " ARIMA(1,0,1)(0,0,0)[0] intercept   : AIC=402.467, Time=0.11 sec\n",
      " ARIMA(1,0,2)(0,0,0)[0] intercept   : AIC=401.529, Time=0.23 sec\n",
      " ARIMA(0,0,2)(0,0,0)[0] intercept   : AIC=inf, Time=0.07 sec\n",
      " ARIMA(1,0,3)(0,0,0)[0] intercept   : AIC=inf, Time=0.30 sec\n",
      " ARIMA(0,0,3)(0,0,0)[0] intercept   : AIC=inf, Time=0.12 sec\n",
      " ARIMA(2,0,3)(0,0,0)[0] intercept   : AIC=inf, Time=0.38 sec\n",
      " ARIMA(1,0,2)(0,0,0)[0]             : AIC=inf, Time=0.14 sec\n",
      "\n",
      "Best model:  ARIMA(1,0,2)(0,0,0)[0] intercept\n",
      "Total fit time: 2.047 seconds\n"
     ]
    },
    {
     "data": {
      "text/html": [
       "<table class=\"simpletable\">\n",
       "<caption>SARIMAX Results</caption>\n",
       "<tr>\n",
       "  <th>Dep. Variable:</th>           <td>y</td>        <th>  No. Observations:  </th>    <td>35</td>   \n",
       "</tr>\n",
       "<tr>\n",
       "  <th>Model:</th>           <td>SARIMAX(1, 0, 2)</td> <th>  Log Likelihood     </th> <td>-195.765</td>\n",
       "</tr>\n",
       "<tr>\n",
       "  <th>Date:</th>            <td>Thu, 25 Jan 2024</td> <th>  AIC                </th>  <td>401.529</td>\n",
       "</tr>\n",
       "<tr>\n",
       "  <th>Time:</th>                <td>01:55:03</td>     <th>  BIC                </th>  <td>409.306</td>\n",
       "</tr>\n",
       "<tr>\n",
       "  <th>Sample:</th>             <td>02-01-2021</td>    <th>  HQIC               </th>  <td>404.214</td>\n",
       "</tr>\n",
       "<tr>\n",
       "  <th></th>                   <td>- 12-01-2023</td>   <th>                     </th>     <td> </td>   \n",
       "</tr>\n",
       "<tr>\n",
       "  <th>Covariance Type:</th>        <td>opg</td>       <th>                     </th>     <td> </td>   \n",
       "</tr>\n",
       "</table>\n",
       "<table class=\"simpletable\">\n",
       "<tr>\n",
       "      <td></td>         <th>coef</th>     <th>std err</th>      <th>z</th>      <th>P>|z|</th>  <th>[0.025</th>    <th>0.975]</th>  \n",
       "</tr>\n",
       "<tr>\n",
       "  <th>intercept</th> <td>    9.3730</td> <td>    6.166</td> <td>    1.520</td> <td> 0.128</td> <td>   -2.712</td> <td>   21.458</td>\n",
       "</tr>\n",
       "<tr>\n",
       "  <th>ar.L1</th>     <td>    0.0923</td> <td>    0.311</td> <td>    0.297</td> <td> 0.767</td> <td>   -0.518</td> <td>    0.703</td>\n",
       "</tr>\n",
       "<tr>\n",
       "  <th>ma.L1</th>     <td>   -1.3961</td> <td>    0.375</td> <td>   -3.719</td> <td> 0.000</td> <td>   -2.132</td> <td>   -0.660</td>\n",
       "</tr>\n",
       "<tr>\n",
       "  <th>ma.L2</th>     <td>    0.9531</td> <td>    0.537</td> <td>    1.775</td> <td> 0.076</td> <td>   -0.099</td> <td>    2.006</td>\n",
       "</tr>\n",
       "<tr>\n",
       "  <th>sigma2</th>    <td> 3666.1921</td> <td> 1670.625</td> <td>    2.195</td> <td> 0.028</td> <td>  391.827</td> <td> 6940.557</td>\n",
       "</tr>\n",
       "</table>\n",
       "<table class=\"simpletable\">\n",
       "<tr>\n",
       "  <th>Ljung-Box (L1) (Q):</th>     <td>0.23</td> <th>  Jarque-Bera (JB):  </th> <td>0.83</td>\n",
       "</tr>\n",
       "<tr>\n",
       "  <th>Prob(Q):</th>                <td>0.63</td> <th>  Prob(JB):          </th> <td>0.66</td>\n",
       "</tr>\n",
       "<tr>\n",
       "  <th>Heteroskedasticity (H):</th> <td>0.95</td> <th>  Skew:              </th> <td>0.31</td>\n",
       "</tr>\n",
       "<tr>\n",
       "  <th>Prob(H) (two-sided):</th>    <td>0.92</td> <th>  Kurtosis:          </th> <td>2.56</td>\n",
       "</tr>\n",
       "</table><br/><br/>Warnings:<br/>[1] Covariance matrix calculated using the outer product of gradients (complex-step)."
      ],
      "text/latex": [
       "\\begin{center}\n",
       "\\begin{tabular}{lclc}\n",
       "\\toprule\n",
       "\\textbf{Dep. Variable:}          &        y         & \\textbf{  No. Observations:  } &     35      \\\\\n",
       "\\textbf{Model:}                  & SARIMAX(1, 0, 2) & \\textbf{  Log Likelihood     } &  -195.765   \\\\\n",
       "\\textbf{Date:}                   & Thu, 25 Jan 2024 & \\textbf{  AIC                } &  401.529    \\\\\n",
       "\\textbf{Time:}                   &     01:55:03     & \\textbf{  BIC                } &  409.306    \\\\\n",
       "\\textbf{Sample:}                 &    02-01-2021    & \\textbf{  HQIC               } &  404.214    \\\\\n",
       "\\textbf{}                        &   - 12-01-2023   & \\textbf{                     } &             \\\\\n",
       "\\textbf{Covariance Type:}        &       opg        & \\textbf{                     } &             \\\\\n",
       "\\bottomrule\n",
       "\\end{tabular}\n",
       "\\begin{tabular}{lcccccc}\n",
       "                   & \\textbf{coef} & \\textbf{std err} & \\textbf{z} & \\textbf{P$> |$z$|$} & \\textbf{[0.025} & \\textbf{0.975]}  \\\\\n",
       "\\midrule\n",
       "\\textbf{intercept} &       9.3730  &        6.166     &     1.520  &         0.128        &       -2.712    &       21.458     \\\\\n",
       "\\textbf{ar.L1}     &       0.0923  &        0.311     &     0.297  &         0.767        &       -0.518    &        0.703     \\\\\n",
       "\\textbf{ma.L1}     &      -1.3961  &        0.375     &    -3.719  &         0.000        &       -2.132    &       -0.660     \\\\\n",
       "\\textbf{ma.L2}     &       0.9531  &        0.537     &     1.775  &         0.076        &       -0.099    &        2.006     \\\\\n",
       "\\textbf{sigma2}    &    3666.1921  &     1670.625     &     2.195  &         0.028        &      391.827    &     6940.557     \\\\\n",
       "\\bottomrule\n",
       "\\end{tabular}\n",
       "\\begin{tabular}{lclc}\n",
       "\\textbf{Ljung-Box (L1) (Q):}     & 0.23 & \\textbf{  Jarque-Bera (JB):  } & 0.83  \\\\\n",
       "\\textbf{Prob(Q):}                & 0.63 & \\textbf{  Prob(JB):          } & 0.66  \\\\\n",
       "\\textbf{Heteroskedasticity (H):} & 0.95 & \\textbf{  Skew:              } & 0.31  \\\\\n",
       "\\textbf{Prob(H) (two-sided):}    & 0.92 & \\textbf{  Kurtosis:          } & 2.56  \\\\\n",
       "\\bottomrule\n",
       "\\end{tabular}\n",
       "%\\caption{SARIMAX Results}\n",
       "\\end{center}\n",
       "\n",
       "Warnings: \\newline\n",
       " [1] Covariance matrix calculated using the outer product of gradients (complex-step)."
      ],
      "text/plain": [
       "<class 'statsmodels.iolib.summary.Summary'>\n",
       "\"\"\"\n",
       "                               SARIMAX Results                                \n",
       "==============================================================================\n",
       "Dep. Variable:                      y   No. Observations:                   35\n",
       "Model:               SARIMAX(1, 0, 2)   Log Likelihood                -195.765\n",
       "Date:                Thu, 25 Jan 2024   AIC                            401.529\n",
       "Time:                        01:55:03   BIC                            409.306\n",
       "Sample:                    02-01-2021   HQIC                           404.214\n",
       "                         - 12-01-2023                                         \n",
       "Covariance Type:                  opg                                         \n",
       "==============================================================================\n",
       "                 coef    std err          z      P>|z|      [0.025      0.975]\n",
       "------------------------------------------------------------------------------\n",
       "intercept      9.3730      6.166      1.520      0.128      -2.712      21.458\n",
       "ar.L1          0.0923      0.311      0.297      0.767      -0.518       0.703\n",
       "ma.L1         -1.3961      0.375     -3.719      0.000      -2.132      -0.660\n",
       "ma.L2          0.9531      0.537      1.775      0.076      -0.099       2.006\n",
       "sigma2      3666.1921   1670.625      2.195      0.028     391.827    6940.557\n",
       "===================================================================================\n",
       "Ljung-Box (L1) (Q):                   0.23   Jarque-Bera (JB):                 0.83\n",
       "Prob(Q):                              0.63   Prob(JB):                         0.66\n",
       "Heteroskedasticity (H):               0.95   Skew:                             0.31\n",
       "Prob(H) (two-sided):                  0.92   Kurtosis:                         2.56\n",
       "===================================================================================\n",
       "\n",
       "Warnings:\n",
       "[1] Covariance matrix calculated using the outer product of gradients (complex-step).\n",
       "\"\"\""
      ]
     },
     "execution_count": 45,
     "metadata": {},
     "output_type": "execute_result"
    }
   ],
   "source": [
    "arima_model = auto_arima(df['new_v'].dropna(),trace=True)\n",
    "arima_model.summary()"
   ]
  },
  {
   "cell_type": "code",
   "execution_count": 46,
   "metadata": {},
   "outputs": [
    {
     "name": "stderr",
     "output_type": "stream",
     "text": [
      "C:\\Users\\Lenovo\\AppData\\Roaming\\Python\\Python310\\site-packages\\statsmodels\\tsa\\base\\tsa_model.py:473: ValueWarning: No frequency information was provided, so inferred frequency MS will be used.\n",
      "  self._init_dates(dates, freq)\n",
      "C:\\Users\\Lenovo\\AppData\\Roaming\\Python\\Python310\\site-packages\\statsmodels\\tsa\\base\\tsa_model.py:473: ValueWarning: No frequency information was provided, so inferred frequency MS will be used.\n",
      "  self._init_dates(dates, freq)\n",
      "C:\\Users\\Lenovo\\AppData\\Roaming\\Python\\Python310\\site-packages\\statsmodels\\tsa\\base\\tsa_model.py:473: ValueWarning: No frequency information was provided, so inferred frequency MS will be used.\n",
      "  self._init_dates(dates, freq)\n"
     ]
    },
    {
     "data": {
      "text/html": [
       "<table class=\"simpletable\">\n",
       "<caption>SARIMAX Results</caption>\n",
       "<tr>\n",
       "  <th>Dep. Variable:</th>         <td>new_v</td>      <th>  No. Observations:  </th>    <td>23</td>   \n",
       "</tr>\n",
       "<tr>\n",
       "  <th>Model:</th>            <td>ARIMA(1, 0, 2)</td>  <th>  Log Likelihood     </th> <td>-121.724</td>\n",
       "</tr>\n",
       "<tr>\n",
       "  <th>Date:</th>            <td>Thu, 25 Jan 2024</td> <th>  AIC                </th>  <td>253.447</td>\n",
       "</tr>\n",
       "<tr>\n",
       "  <th>Time:</th>                <td>01:55:13</td>     <th>  BIC                </th>  <td>259.125</td>\n",
       "</tr>\n",
       "<tr>\n",
       "  <th>Sample:</th>             <td>01-01-2021</td>    <th>  HQIC               </th>  <td>254.875</td>\n",
       "</tr>\n",
       "<tr>\n",
       "  <th></th>                   <td>- 11-01-2022</td>   <th>                     </th>     <td> </td>   \n",
       "</tr>\n",
       "<tr>\n",
       "  <th>Covariance Type:</th>        <td>opg</td>       <th>                     </th>     <td> </td>   \n",
       "</tr>\n",
       "</table>\n",
       "<table class=\"simpletable\">\n",
       "<tr>\n",
       "     <td></td>       <th>coef</th>     <th>std err</th>      <th>z</th>      <th>P>|z|</th>  <th>[0.025</th>    <th>0.975]</th>  \n",
       "</tr>\n",
       "<tr>\n",
       "  <th>const</th>  <td>    6.4461</td> <td>    3.021</td> <td>    2.134</td> <td> 0.033</td> <td>    0.526</td> <td>   12.366</td>\n",
       "</tr>\n",
       "<tr>\n",
       "  <th>ar.L1</th>  <td>   -0.8589</td> <td>    0.348</td> <td>   -2.471</td> <td> 0.013</td> <td>   -1.540</td> <td>   -0.178</td>\n",
       "</tr>\n",
       "<tr>\n",
       "  <th>ma.L1</th>  <td>   -0.3401</td> <td>  101.297</td> <td>   -0.003</td> <td> 0.997</td> <td> -198.878</td> <td>  198.198</td>\n",
       "</tr>\n",
       "<tr>\n",
       "  <th>ma.L2</th>  <td>   -0.6594</td> <td>   66.685</td> <td>   -0.010</td> <td> 0.992</td> <td> -131.360</td> <td>  130.041</td>\n",
       "</tr>\n",
       "<tr>\n",
       "  <th>sigma2</th> <td> 3180.8670</td> <td> 3.21e+05</td> <td>    0.010</td> <td> 0.992</td> <td>-6.26e+05</td> <td> 6.32e+05</td>\n",
       "</tr>\n",
       "</table>\n",
       "<table class=\"simpletable\">\n",
       "<tr>\n",
       "  <th>Ljung-Box (L1) (Q):</th>     <td>0.23</td> <th>  Jarque-Bera (JB):  </th> <td>1.97</td>\n",
       "</tr>\n",
       "<tr>\n",
       "  <th>Prob(Q):</th>                <td>0.63</td> <th>  Prob(JB):          </th> <td>0.37</td>\n",
       "</tr>\n",
       "<tr>\n",
       "  <th>Heteroskedasticity (H):</th> <td>1.67</td> <th>  Skew:              </th> <td>0.71</td>\n",
       "</tr>\n",
       "<tr>\n",
       "  <th>Prob(H) (two-sided):</th>    <td>0.48</td> <th>  Kurtosis:          </th> <td>3.14</td>\n",
       "</tr>\n",
       "</table><br/><br/>Warnings:<br/>[1] Covariance matrix calculated using the outer product of gradients (complex-step)."
      ],
      "text/latex": [
       "\\begin{center}\n",
       "\\begin{tabular}{lclc}\n",
       "\\toprule\n",
       "\\textbf{Dep. Variable:}          &      new\\_v      & \\textbf{  No. Observations:  } &     23      \\\\\n",
       "\\textbf{Model:}                  &  ARIMA(1, 0, 2)  & \\textbf{  Log Likelihood     } &  -121.724   \\\\\n",
       "\\textbf{Date:}                   & Thu, 25 Jan 2024 & \\textbf{  AIC                } &  253.447    \\\\\n",
       "\\textbf{Time:}                   &     01:55:13     & \\textbf{  BIC                } &  259.125    \\\\\n",
       "\\textbf{Sample:}                 &    01-01-2021    & \\textbf{  HQIC               } &  254.875    \\\\\n",
       "\\textbf{}                        &   - 11-01-2022   & \\textbf{                     } &             \\\\\n",
       "\\textbf{Covariance Type:}        &       opg        & \\textbf{                     } &             \\\\\n",
       "\\bottomrule\n",
       "\\end{tabular}\n",
       "\\begin{tabular}{lcccccc}\n",
       "                & \\textbf{coef} & \\textbf{std err} & \\textbf{z} & \\textbf{P$> |$z$|$} & \\textbf{[0.025} & \\textbf{0.975]}  \\\\\n",
       "\\midrule\n",
       "\\textbf{const}  &       6.4461  &        3.021     &     2.134  &         0.033        &        0.526    &       12.366     \\\\\n",
       "\\textbf{ar.L1}  &      -0.8589  &        0.348     &    -2.471  &         0.013        &       -1.540    &       -0.178     \\\\\n",
       "\\textbf{ma.L1}  &      -0.3401  &      101.297     &    -0.003  &         0.997        &     -198.878    &      198.198     \\\\\n",
       "\\textbf{ma.L2}  &      -0.6594  &       66.685     &    -0.010  &         0.992        &     -131.360    &      130.041     \\\\\n",
       "\\textbf{sigma2} &    3180.8670  &     3.21e+05     &     0.010  &         0.992        &    -6.26e+05    &     6.32e+05     \\\\\n",
       "\\bottomrule\n",
       "\\end{tabular}\n",
       "\\begin{tabular}{lclc}\n",
       "\\textbf{Ljung-Box (L1) (Q):}     & 0.23 & \\textbf{  Jarque-Bera (JB):  } & 1.97  \\\\\n",
       "\\textbf{Prob(Q):}                & 0.63 & \\textbf{  Prob(JB):          } & 0.37  \\\\\n",
       "\\textbf{Heteroskedasticity (H):} & 1.67 & \\textbf{  Skew:              } & 0.71  \\\\\n",
       "\\textbf{Prob(H) (two-sided):}    & 0.48 & \\textbf{  Kurtosis:          } & 3.14  \\\\\n",
       "\\bottomrule\n",
       "\\end{tabular}\n",
       "%\\caption{SARIMAX Results}\n",
       "\\end{center}\n",
       "\n",
       "Warnings: \\newline\n",
       " [1] Covariance matrix calculated using the outer product of gradients (complex-step)."
      ],
      "text/plain": [
       "<class 'statsmodels.iolib.summary.Summary'>\n",
       "\"\"\"\n",
       "                               SARIMAX Results                                \n",
       "==============================================================================\n",
       "Dep. Variable:                  new_v   No. Observations:                   23\n",
       "Model:                 ARIMA(1, 0, 2)   Log Likelihood                -121.724\n",
       "Date:                Thu, 25 Jan 2024   AIC                            253.447\n",
       "Time:                        01:55:13   BIC                            259.125\n",
       "Sample:                    01-01-2021   HQIC                           254.875\n",
       "                         - 11-01-2022                                         \n",
       "Covariance Type:                  opg                                         \n",
       "==============================================================================\n",
       "                 coef    std err          z      P>|z|      [0.025      0.975]\n",
       "------------------------------------------------------------------------------\n",
       "const          6.4461      3.021      2.134      0.033       0.526      12.366\n",
       "ar.L1         -0.8589      0.348     -2.471      0.013      -1.540      -0.178\n",
       "ma.L1         -0.3401    101.297     -0.003      0.997    -198.878     198.198\n",
       "ma.L2         -0.6594     66.685     -0.010      0.992    -131.360     130.041\n",
       "sigma2      3180.8670   3.21e+05      0.010      0.992   -6.26e+05    6.32e+05\n",
       "===================================================================================\n",
       "Ljung-Box (L1) (Q):                   0.23   Jarque-Bera (JB):                 1.97\n",
       "Prob(Q):                              0.63   Prob(JB):                         0.37\n",
       "Heteroskedasticity (H):               1.67   Skew:                             0.71\n",
       "Prob(H) (two-sided):                  0.48   Kurtosis:                         3.14\n",
       "===================================================================================\n",
       "\n",
       "Warnings:\n",
       "[1] Covariance matrix calculated using the outer product of gradients (complex-step).\n",
       "\"\"\""
      ]
     },
     "execution_count": 46,
     "metadata": {},
     "output_type": "execute_result"
    }
   ],
   "source": [
    "model = ARIMA(train['new_v'], order=(1,0,2))\n",
    "result = model.fit()\n",
    "result.summary()"
   ]
  },
  {
   "cell_type": "code",
   "execution_count": 47,
   "metadata": {},
   "outputs": [
    {
     "data": {
      "text/plain": [
       "2022-12-01    65.250619\n",
       "2023-01-01   -45.105676\n",
       "2023-02-01    50.724354\n",
       "2023-03-01   -31.584904\n",
       "2023-04-01    39.111244\n",
       "Freq: MS, Name: predicted_mean, dtype: float64"
      ]
     },
     "execution_count": 47,
     "metadata": {},
     "output_type": "execute_result"
    }
   ],
   "source": [
    "forecast_data = result.predict(start=len(train), end=len(df)-1,dynamic=True)\n",
    "forecast_data.head()"
   ]
  },
  {
   "cell_type": "code",
   "execution_count": 56,
   "metadata": {},
   "outputs": [
    {
     "data": {
      "image/png": "[encoded data removed]",
      "text/plain": [
       "<Figure size 1200x800 with 1 Axes>"
      ]
     },
     "metadata": {},
     "output_type": "display_data"
    }
   ],
   "source": [
    "plt.figure(figsize=(12,8))\n",
    "plt.plot(df['new_v'],label=\"Raw_Data\", color=\"blue\")\n",
    "plt.plot(test['new_v'],label=\"test_data\", color=\"green\")\n",
    "plt.plot(forecast_data,label=\"predict_data\", color=\"red\")\n",
    "plt.legend()\n",
    "plt.show()\n"
   ]
  },
  {
   "cell_type": "code",
   "execution_count": 57,
   "metadata": {},
   "outputs": [
    {
     "data": {
      "text/plain": [
       "132.0722435269656"
      ]
     },
     "execution_count": 57,
     "metadata": {},
     "output_type": "execute_result"
    }
   ],
   "source": [
    "from sklearn.metrics import mean_squared_error\n",
    "\n",
    "\n",
    "rms = np.sqrt(mean_squared_error(test['new_v'], forecast_data))\n",
    "rms"
   ]
  },
  {
   "cell_type": "code",
   "execution_count": 60,
   "metadata": {},
   "outputs": [
    {
     "data": {
      "text/html": [
       "<div>\n",
       "<style scoped>\n",
       "    .dataframe tbody tr th:only-of-type {\n",
       "        vertical-align: middle;\n",
       "    }\n",
       "\n",
       "    .dataframe tbody tr th {\n",
       "        vertical-align: top;\n",
       "    }\n",
       "\n",
       "    .dataframe thead th {\n",
       "        text-align: right;\n",
       "    }\n",
       "</style>\n",
       "<table border=\"1\" class=\"dataframe\">\n",
       "  <thead>\n",
       "    <tr style=\"text-align: right;\">\n",
       "      <th></th>\n",
       "      <th>Sales</th>\n",
       "      <th>new_v</th>\n",
       "      <th>s_pred</th>\n",
       "    </tr>\n",
       "    <tr>\n",
       "      <th>Month</th>\n",
       "      <th></th>\n",
       "      <th></th>\n",
       "      <th></th>\n",
       "    </tr>\n",
       "  </thead>\n",
       "  <tbody>\n",
       "    <tr>\n",
       "      <th>2023-08-01</th>\n",
       "      <td>407.6</td>\n",
       "      <td>-167.9</td>\n",
       "      <td>599.723682</td>\n",
       "    </tr>\n",
       "    <tr>\n",
       "      <th>2023-09-01</th>\n",
       "      <td>682.0</td>\n",
       "      <td>274.4</td>\n",
       "      <td>398.776756</td>\n",
       "    </tr>\n",
       "    <tr>\n",
       "      <th>2023-10-01</th>\n",
       "      <td>475.3</td>\n",
       "      <td>-206.7</td>\n",
       "      <td>701.561053</td>\n",
       "    </tr>\n",
       "    <tr>\n",
       "      <th>2023-11-01</th>\n",
       "      <td>581.3</td>\n",
       "      <td>106.0</td>\n",
       "      <td>470.481530</td>\n",
       "    </tr>\n",
       "    <tr>\n",
       "      <th>2023-12-01</th>\n",
       "      <td>646.9</td>\n",
       "      <td>65.6</td>\n",
       "      <td>597.421317</td>\n",
       "    </tr>\n",
       "  </tbody>\n",
       "</table>\n",
       "</div>"
      ],
      "text/plain": [
       "            Sales  new_v      s_pred\n",
       "Month                               \n",
       "2023-08-01  407.6 -167.9  599.723682\n",
       "2023-09-01  682.0  274.4  398.776756\n",
       "2023-10-01  475.3 -206.7  701.561053\n",
       "2023-11-01  581.3  106.0  470.481530\n",
       "2023-12-01  646.9   65.6  597.421317"
      ]
     },
     "execution_count": 60,
     "metadata": {},
     "output_type": "execute_result"
    }
   ],
   "source": [
    "df['s_pred'] = df['Sales'].shift(1)+ forecast_data\n",
    "df.tail()"
   ]
  },
  {
   "cell_type": "code",
   "execution_count": 62,
   "metadata": {},
   "outputs": [
    {
     "data": {
      "text/plain": [
       "132.07224352696556"
      ]
     },
     "execution_count": 62,
     "metadata": {},
     "output_type": "execute_result"
    }
   ],
   "source": [
    "rms = np.sqrt(mean_squared_error(df['s_pred'].dropna(),test['Sales']))\n",
    "rms"
   ]
  },
  {
   "cell_type": "code",
   "execution_count": 63,
   "metadata": {},
   "outputs": [
    {
     "data": {
      "text/plain": [
       "[<matplotlib.lines.Line2D at 0x2611ceda950>]"
      ]
     },
     "execution_count": 63,
     "metadata": {},
     "output_type": "execute_result"
    },
    {
     "data": {
      "image/png": "[encoded data removed]",
      "text/plain": [
       "<Figure size 640x480 with 1 Axes>"
      ]
     },
     "metadata": {},
     "output_type": "display_data"
    }
   ],
   "source": [
    "plt.plot(df['s_pred'],color='blue')\n",
    "plt.plot(test['Sales'],color='green')"
   ]
  }
 ],
 "metadata": {
  "kernelspec": {
   "display_name": "Python 3",
   "language": "python",
   "name": "python3"
  },
  "language_info": {
   "codemirror_mode": {
    "name": "ipython",
    "version": 3
   },
   "file_extension": ".py",
   "mimetype": "text/x-python",
   "name": "python",
   "nbconvert_exporter": "python",
   "pygments_lexer": "ipython3",
   "version": "3.10.11"
  }
 },
 "nbformat": 4,
 "nbformat_minor": 2
}
